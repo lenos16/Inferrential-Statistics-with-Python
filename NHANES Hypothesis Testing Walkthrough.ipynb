{
  "nbformat": 4,
  "nbformat_minor": 0,
  "metadata": {
    "kernelspec": {
      "display_name": "Python 3",
      "language": "python",
      "name": "python3"
    },
    "language_info": {
      "codemirror_mode": {
        "name": "ipython",
        "version": 3
      },
      "file_extension": ".py",
      "mimetype": "text/x-python",
      "name": "python",
      "nbconvert_exporter": "python",
      "pygments_lexer": "ipython3",
      "version": "3.6.3"
    },
    "colab": {
      "name": "NHANES Hypothesis Testing Walkthrough.ipynb",
      "provenance": []
    }
  },
  "cells": [
    {
      "cell_type": "markdown",
      "metadata": {
        "id": "_hKf9Xy9FJlL"
      },
      "source": [
        "# Hypothesis Testing\n",
        "\n",
        "In this notebook we demonstrate formal hypothesis testing using the NHANES data.\n",
        "\n",
        "It is important to note that the NHANES data are a \"complex survey\".  The data are not an independent and representative sample from the target population.  Proper analysis of complex survey data should make use of additional information about how the data were collected.  Since complex survey analysis is a somewhat specialized topic, we ignore this aspect of the data here, and analyze the NHANES data as if it were an independent and identically distributed sample from a population."
      ]
    },
    {
      "cell_type": "code",
      "metadata": {
        "id": "zGlbUTO5FJlS",
        "outputId": "3c18bf71-1e45-4878-9f39-9a8f3df8ba3d",
        "colab": {
          "base_uri": "https://localhost:8080/"
        }
      },
      "source": [
        "import pandas as pd\n",
        "import numpy as np\n",
        "import matplotlib\n",
        "matplotlib.use('Agg') # workaround, there may be a better way\n",
        "import seaborn as sns\n",
        "%matplotlib inline\n",
        "import matplotlib.pyplot as plt\n",
        "import statsmodels.api as sm\n",
        "import scipy.stats.distributions as dist"
      ],
      "execution_count": 1,
      "outputs": [
        {
          "output_type": "stream",
          "text": [
            "/usr/local/lib/python3.6/dist-packages/statsmodels/tools/_testing.py:19: FutureWarning: pandas.util.testing is deprecated. Use the functions in the public API at pandas.testing instead.\n",
            "  import pandas.util.testing as tm\n"
          ],
          "name": "stderr"
        }
      ]
    },
    {
      "cell_type": "markdown",
      "metadata": {
        "id": "GqWNB7mVFJlS"
      },
      "source": [
        "Below we read the data, and convert some of the integer codes to text values."
      ]
    },
    {
      "cell_type": "code",
      "metadata": {
        "id": "Y_phUU-sFJlT"
      },
      "source": [
        "url = \"https://raw.githubusercontent.com/lenos16/Inferrential-Statistics-with-Python/main/nhanes_2015_2016.csv\"\n",
        "da = pd.read_csv(url)\n",
        "\n",
        "da[\"SMQ020x\"] = da.SMQ020.replace({1: \"Yes\", 2: \"No\", 7: np.nan, 9: np.nan})"
      ],
      "execution_count": 2,
      "outputs": []
    },
    {
      "cell_type": "code",
      "metadata": {
        "id": "s1U2BI5vFJlT",
        "outputId": "f446bbf4-ead8-420c-f623-4c57510623dd",
        "colab": {
          "base_uri": "https://localhost:8080/"
        }
      },
      "source": [
        "da[\"SMQ020x\"].head()"
      ],
      "execution_count": 3,
      "outputs": [
        {
          "output_type": "execute_result",
          "data": {
            "text/plain": [
              "0    Yes\n",
              "1    Yes\n",
              "2    Yes\n",
              "3     No\n",
              "4     No\n",
              "Name: SMQ020x, dtype: object"
            ]
          },
          "metadata": {
            "tags": []
          },
          "execution_count": 3
        }
      ]
    },
    {
      "cell_type": "code",
      "metadata": {
        "id": "r26gK0C1FJlU",
        "outputId": "3c06b909-decb-4822-bb38-73f394d4e70c",
        "colab": {
          "base_uri": "https://localhost:8080/"
        }
      },
      "source": [
        "da[\"RIAGENDRx\"] = da.RIAGENDR.replace({1: \"Male\", 2: \"Female\"})\n",
        "\n",
        "da[\"RIAGENDRx\"].head()"
      ],
      "execution_count": 4,
      "outputs": [
        {
          "output_type": "execute_result",
          "data": {
            "text/plain": [
              "0      Male\n",
              "1      Male\n",
              "2      Male\n",
              "3    Female\n",
              "4    Female\n",
              "Name: RIAGENDRx, dtype: object"
            ]
          },
          "metadata": {
            "tags": []
          },
          "execution_count": 4
        }
      ]
    },
    {
      "cell_type": "markdown",
      "metadata": {
        "id": "CdYXzYvWFJlU"
      },
      "source": [
        "### Hypothesis Tests for One Proportion\n",
        "\n",
        "The most basic hypothesis test may be the one-sample test for a proportion.  This test is used if we have specified a particular value as the null value for the proportion, and we wish to assess if the data are compatible with the true parameter value being equal to this specified value.  One-sample tests are not used very often in practice, because it is not very common that we have a specific fixed value to use for comparison. For illustration, imagine that the rate of lifetime smoking in another country was known to be 40%, and we wished to assess whether the rate of lifetime smoking in the US were different from 40%.  In the following notebook cell, we carry out the (two-sided) one-sample test that the population proportion of smokers is 0.4, and obtain a p-value of 0.43.  This indicates that the NHANES data are compatible with the proportion of (ever) smokers in the US being 40%. "
      ]
    },
    {
      "cell_type": "code",
      "metadata": {
        "id": "oNvtR7YVHAmy"
      },
      "source": [
        "x=da.SMQ020x.dropna()==\"Yes\""
      ],
      "execution_count": 5,
      "outputs": []
    },
    {
      "cell_type": "code",
      "metadata": {
        "id": "DE-3QO0ZHFkI",
        "outputId": "9c3c04f3-f392-49b9-9628-ea8766f12e82",
        "colab": {
          "base_uri": "https://localhost:8080/"
        }
      },
      "source": [
        "p=x.mean()\r\n",
        "p"
      ],
      "execution_count": 6,
      "outputs": [
        {
          "output_type": "execute_result",
          "data": {
            "text/plain": [
              "0.4050655021834061"
            ]
          },
          "metadata": {
            "tags": []
          },
          "execution_count": 6
        }
      ]
    },
    {
      "cell_type": "code",
      "metadata": {
        "id": "i7ALmkDTHIth",
        "outputId": "138a7f5c-2c59-4950-a0f4-4abc121eeaf2",
        "colab": {
          "base_uri": "https://localhost:8080/"
        }
      },
      "source": [
        "se=np.sqrt(.4*(1-.4)/len(x))\r\n",
        "se"
      ],
      "execution_count": 8,
      "outputs": [
        {
          "output_type": "execute_result",
          "data": {
            "text/plain": [
              "0.00647467353462031"
            ]
          },
          "metadata": {
            "tags": []
          },
          "execution_count": 8
        }
      ]
    },
    {
      "cell_type": "code",
      "metadata": {
        "id": "hbB2wKOKHW5i",
        "outputId": "c708c856-c775-4113-82d6-6368de62c7e1",
        "colab": {
          "base_uri": "https://localhost:8080/"
        }
      },
      "source": [
        "test_stat=(p-.4)/se\r\n",
        "test_stat"
      ],
      "execution_count": 10,
      "outputs": [
        {
          "output_type": "execute_result",
          "data": {
            "text/plain": [
              "0.7823563854332805"
            ]
          },
          "metadata": {
            "tags": []
          },
          "execution_count": 10
        }
      ]
    },
    {
      "cell_type": "code",
      "metadata": {
        "id": "bQ_5eZ3THizU",
        "outputId": "f6aa4e35-f35c-4039-f11d-7f9ae672a9a7",
        "colab": {
          "base_uri": "https://localhost:8080/"
        }
      },
      "source": [
        "p_value=2*dist.norm.cdf(-np.abs(test_stat))\r\n",
        "print(test_stat,p_value)"
      ],
      "execution_count": 11,
      "outputs": [
        {
          "output_type": "stream",
          "text": [
            "0.7823563854332805 0.4340051581348052\n"
          ],
          "name": "stdout"
        }
      ]
    },
    {
      "cell_type": "code",
      "metadata": {
        "id": "UAj2Zwd0FJlU"
      },
      "source": [
        "x = da.SMQ020x.dropna() == \"Yes\""
      ],
      "execution_count": null,
      "outputs": []
    },
    {
      "cell_type": "code",
      "metadata": {
        "id": "dlWMTCtHFJlV"
      },
      "source": [
        "p = x.mean()"
      ],
      "execution_count": null,
      "outputs": []
    },
    {
      "cell_type": "code",
      "metadata": {
        "id": "-FgViqoyFJlV"
      },
      "source": [
        "p"
      ],
      "execution_count": null,
      "outputs": []
    },
    {
      "cell_type": "code",
      "metadata": {
        "id": "mk5GwTPnFJlV"
      },
      "source": [
        "se = np.sqrt(.4 * (1 - .4)/ len(x))\n",
        "se"
      ],
      "execution_count": null,
      "outputs": []
    },
    {
      "cell_type": "code",
      "metadata": {
        "id": "tjd14FeZFJlW"
      },
      "source": [
        "test_stat = (p - 0.4) / se\n",
        "test_stat"
      ],
      "execution_count": null,
      "outputs": []
    },
    {
      "cell_type": "code",
      "metadata": {
        "id": "MzsYt_8LFJlW"
      },
      "source": [
        "pvalue = 2 * dist.norm.cdf(-np.abs(test_stat))\n",
        "print(test_stat, pvalue)"
      ],
      "execution_count": null,
      "outputs": []
    },
    {
      "cell_type": "markdown",
      "metadata": {
        "id": "eQfq4ZX_FJlW"
      },
      "source": [
        "The following cell carries out the same test as performed above using the Statsmodels library.  The results in the first (default) case below are slightly different from the results obtained above because Statsmodels by default uses the sample proportion instead of the null proportion when computing the standard error.  This distinction is rarely consequential, but we can specify that the null proportion should be used to calculate the standard error, and the results agree exactly with what we calculated above.  The first two lines below carry out tests using the normal approximation to the sampling distribution of the test statistic, and the third line below carries uses the exact binomial sampling distribution.  We can see here that the p-values are nearly identical in all three cases. This is expected when the sample size is large, and the proportion is not close to either 0 or 1."
      ]
    },
    {
      "cell_type": "code",
      "metadata": {
        "id": "hkCR_oN7IC3x",
        "outputId": "ac58a527-4e55-4b5b-e942-cb0f5b6cf212",
        "colab": {
          "base_uri": "https://localhost:8080/"
        }
      },
      "source": [
        "print(sm.stats.proportions_ztest(x.sum(),len(x),0.4)) #Normal approximation with estimated proportions\r\n",
        "print(sm.stats.binom_test(x.sum(),len(x),0.4)) #Excat binomial p-value"
      ],
      "execution_count": 12,
      "outputs": [
        {
          "output_type": "stream",
          "text": [
            "(0.7807518954896244, 0.43494843171868214)\n",
            "0.4340360854459431\n"
          ],
          "name": "stdout"
        }
      ]
    },
    {
      "cell_type": "code",
      "metadata": {
        "id": "kXzi8yKnFJlW"
      },
      "source": [
        "sm.stats.proportions_ztest(x.sum(), len(x), 0.4)"
      ],
      "execution_count": null,
      "outputs": []
    },
    {
      "cell_type": "code",
      "metadata": {
        "id": "hu4OYIA4FJlX"
      },
      "source": [
        "sm.stats.binom_test(x.sum(), len(x), 0.4)"
      ],
      "execution_count": null,
      "outputs": []
    },
    {
      "cell_type": "markdown",
      "metadata": {
        "id": "TGzmWbz9FJlX"
      },
      "source": [
        "### Hypothesis Tests for Two Proportions\n",
        "\n",
        "Comparative tests tend to be used much more frequently than tests comparing one population to a fixed value.  A two-sample test of proportions is used to assess whether the proportion of individuals with some trait differs between two sub-populations.  For example, we can compare the smoking rates between females and males. Since smoking rates vary strongly with age, we do this in the subpopulation of people between 20 and 25 years of age.  In the cell below, we carry out this test without using any libraries, implementing all the test procedures covered elsewhere in the course using Python code.  We find that the smoking rate for men is around 10 percentage points greater than the smoking rate for females, and this difference is statistically significant (the p-value is around 0.01)."
      ]
    },
    {
      "cell_type": "code",
      "metadata": {
        "id": "9CdLKLAaM_gB",
        "outputId": "7d5af920-261c-4e65-e53f-f5d1fc04bdd3",
        "colab": {
          "base_uri": "https://localhost:8080/",
          "height": 195
        }
      },
      "source": [
        "dx=da[[\"SMQ020x\",\"RIDAGEYR\",\"RIAGENDRx\"]].dropna()\r\n",
        "dx.head()"
      ],
      "execution_count": 14,
      "outputs": [
        {
          "output_type": "execute_result",
          "data": {
            "text/html": [
              "<div>\n",
              "<style scoped>\n",
              "    .dataframe tbody tr th:only-of-type {\n",
              "        vertical-align: middle;\n",
              "    }\n",
              "\n",
              "    .dataframe tbody tr th {\n",
              "        vertical-align: top;\n",
              "    }\n",
              "\n",
              "    .dataframe thead th {\n",
              "        text-align: right;\n",
              "    }\n",
              "</style>\n",
              "<table border=\"1\" class=\"dataframe\">\n",
              "  <thead>\n",
              "    <tr style=\"text-align: right;\">\n",
              "      <th></th>\n",
              "      <th>SMQ020x</th>\n",
              "      <th>RIDAGEYR</th>\n",
              "      <th>RIAGENDRx</th>\n",
              "    </tr>\n",
              "  </thead>\n",
              "  <tbody>\n",
              "    <tr>\n",
              "      <th>0</th>\n",
              "      <td>Yes</td>\n",
              "      <td>62</td>\n",
              "      <td>Male</td>\n",
              "    </tr>\n",
              "    <tr>\n",
              "      <th>1</th>\n",
              "      <td>Yes</td>\n",
              "      <td>53</td>\n",
              "      <td>Male</td>\n",
              "    </tr>\n",
              "    <tr>\n",
              "      <th>2</th>\n",
              "      <td>Yes</td>\n",
              "      <td>78</td>\n",
              "      <td>Male</td>\n",
              "    </tr>\n",
              "    <tr>\n",
              "      <th>3</th>\n",
              "      <td>No</td>\n",
              "      <td>56</td>\n",
              "      <td>Female</td>\n",
              "    </tr>\n",
              "    <tr>\n",
              "      <th>4</th>\n",
              "      <td>No</td>\n",
              "      <td>42</td>\n",
              "      <td>Female</td>\n",
              "    </tr>\n",
              "  </tbody>\n",
              "</table>\n",
              "</div>"
            ],
            "text/plain": [
              "  SMQ020x  RIDAGEYR RIAGENDRx\n",
              "0     Yes        62      Male\n",
              "1     Yes        53      Male\n",
              "2     Yes        78      Male\n",
              "3      No        56    Female\n",
              "4      No        42    Female"
            ]
          },
          "metadata": {
            "tags": []
          },
          "execution_count": 14
        }
      ]
    },
    {
      "cell_type": "code",
      "metadata": {
        "id": "_m1fSb4mFJlX",
        "outputId": "7906e8d9-497e-458f-f891-be349cdac48c",
        "colab": {
          "base_uri": "https://localhost:8080/",
          "height": 195
        }
      },
      "source": [
        "dx = da[[\"SMQ020x\", \"RIDAGEYR\", \"RIAGENDRx\"]].dropna()\n",
        "\n",
        "dx.head()"
      ],
      "execution_count": 15,
      "outputs": [
        {
          "output_type": "execute_result",
          "data": {
            "text/html": [
              "<div>\n",
              "<style scoped>\n",
              "    .dataframe tbody tr th:only-of-type {\n",
              "        vertical-align: middle;\n",
              "    }\n",
              "\n",
              "    .dataframe tbody tr th {\n",
              "        vertical-align: top;\n",
              "    }\n",
              "\n",
              "    .dataframe thead th {\n",
              "        text-align: right;\n",
              "    }\n",
              "</style>\n",
              "<table border=\"1\" class=\"dataframe\">\n",
              "  <thead>\n",
              "    <tr style=\"text-align: right;\">\n",
              "      <th></th>\n",
              "      <th>SMQ020x</th>\n",
              "      <th>RIDAGEYR</th>\n",
              "      <th>RIAGENDRx</th>\n",
              "    </tr>\n",
              "  </thead>\n",
              "  <tbody>\n",
              "    <tr>\n",
              "      <th>0</th>\n",
              "      <td>Yes</td>\n",
              "      <td>62</td>\n",
              "      <td>Male</td>\n",
              "    </tr>\n",
              "    <tr>\n",
              "      <th>1</th>\n",
              "      <td>Yes</td>\n",
              "      <td>53</td>\n",
              "      <td>Male</td>\n",
              "    </tr>\n",
              "    <tr>\n",
              "      <th>2</th>\n",
              "      <td>Yes</td>\n",
              "      <td>78</td>\n",
              "      <td>Male</td>\n",
              "    </tr>\n",
              "    <tr>\n",
              "      <th>3</th>\n",
              "      <td>No</td>\n",
              "      <td>56</td>\n",
              "      <td>Female</td>\n",
              "    </tr>\n",
              "    <tr>\n",
              "      <th>4</th>\n",
              "      <td>No</td>\n",
              "      <td>42</td>\n",
              "      <td>Female</td>\n",
              "    </tr>\n",
              "  </tbody>\n",
              "</table>\n",
              "</div>"
            ],
            "text/plain": [
              "  SMQ020x  RIDAGEYR RIAGENDRx\n",
              "0     Yes        62      Male\n",
              "1     Yes        53      Male\n",
              "2     Yes        78      Male\n",
              "3      No        56    Female\n",
              "4      No        42    Female"
            ]
          },
          "metadata": {
            "tags": []
          },
          "execution_count": 15
        }
      ]
    },
    {
      "cell_type": "code",
      "metadata": {
        "id": "j8eybigqNevH",
        "outputId": "90dc8047-25d4-406b-b88f-97539600b9a5",
        "colab": {
          "base_uri": "https://localhost:8080/"
        }
      },
      "source": [
        "#Sumamrize the data by calculating the proportion of yes responses and the sample size\r\n",
        "p=dx.groupby(\"RIAGENDRx\")[\"SMQ020x\"].agg([lambda z: np.mean(z==\"Yes\"),\"size\"])\r\n",
        "p.columns=[\"Smoke\",\"N\"]\r\n",
        "print(p)"
      ],
      "execution_count": 16,
      "outputs": [
        {
          "output_type": "stream",
          "text": [
            "              Smoke     N\n",
            "RIAGENDRx                \n",
            "Female     0.304845  2972\n",
            "Male       0.513258  2753\n"
          ],
          "name": "stdout"
        }
      ]
    },
    {
      "cell_type": "code",
      "metadata": {
        "id": "xM7VjtLlFJlY"
      },
      "source": [
        "p = dx.groupby(\"RIAGENDRx\")[\"SMQ020x\"].agg([lambda z: np.mean(z == \"Yes\"), \"size\"])\n",
        "p.columns = [\"Smoke\", \"N\"]\n",
        "print(p)"
      ],
      "execution_count": null,
      "outputs": []
    },
    {
      "cell_type": "markdown",
      "metadata": {
        "id": "SWJUY6SvFJlY"
      },
      "source": [
        "Essentially the same test as above can be conducted by converting the \"Yes\"/\"No\" responses to numbers (Yes=1, No=0) and conducting a two-sample t-test, as below:"
      ]
    },
    {
      "cell_type": "code",
      "metadata": {
        "id": "KEM1E2jpOVcX",
        "outputId": "492f298d-21c6-43f0-8cb3-9a7bbdc56573",
        "colab": {
          "base_uri": "https://localhost:8080/"
        }
      },
      "source": [
        "# The pooled rate of yes responses, and the standard error of the estimated difference of proportions between male and female\r\n",
        "p_comb=(dx.SMQ020x==\"Yes\").mean()\r\n",
        "va=p_comb*(1-p_comb)\r\n",
        "se=np.sqrt(va*(1/p.N.Female+1/p.N.Male))\r\n",
        "(p_comb, va, se)"
      ],
      "execution_count": 20,
      "outputs": [
        {
          "output_type": "execute_result",
          "data": {
            "text/plain": [
              "(0.4050655021834061, 0.2409874411243111, 0.01298546309757376)"
            ]
          },
          "metadata": {
            "tags": []
          },
          "execution_count": 20
        }
      ]
    },
    {
      "cell_type": "code",
      "metadata": {
        "id": "xA7Em-wAPa9Q",
        "outputId": "7d0c428f-d950-43ed-e211-5f0a7804aa01",
        "colab": {
          "base_uri": "https://localhost:8080/"
        }
      },
      "source": [
        "test_stat=(p.Smoke.Female-p.Smoke.Male)/se\r\n",
        "p_value=2*dist.norm.cdf(-np.abs(test_stat))\r\n",
        "(test_stat, p_value)"
      ],
      "execution_count": 21,
      "outputs": [
        {
          "output_type": "execute_result",
          "data": {
            "text/plain": [
              "(-16.049719603652488, 5.742288777302776e-58)"
            ]
          },
          "metadata": {
            "tags": []
          },
          "execution_count": 21
        }
      ]
    },
    {
      "cell_type": "code",
      "metadata": {
        "id": "GFMhxtGXFJlY"
      },
      "source": [
        "p_comb = (dx.SMQ020x == \"Yes\").mean()\n",
        "va = p_comb * (1 - p_comb)\n",
        "\n",
        "se = np.sqrt(va * (1 / p.N.Female + 1 / p.N.Male))"
      ],
      "execution_count": null,
      "outputs": []
    },
    {
      "cell_type": "code",
      "metadata": {
        "id": "agX--PlzFJlZ"
      },
      "source": [
        "(p_comb, va, se)"
      ],
      "execution_count": null,
      "outputs": []
    },
    {
      "cell_type": "code",
      "metadata": {
        "id": "szOIlDKFFJlZ",
        "outputId": "a249f8c3-64a5-41eb-ffc8-665d0beb83b5",
        "colab": {
          "base_uri": "https://localhost:8080/"
        }
      },
      "source": [
        "test_stat = (p.Smoke.Female - p.Smoke.Male) / se\n",
        "p_value = 2 * dist.norm.cdf(-np.abs(test_stat))\n",
        "(test_stat, p_value)"
      ],
      "execution_count": 19,
      "outputs": [
        {
          "output_type": "execute_result",
          "data": {
            "text/plain": [
              "(-16.049719603652488, 5.742288777302776e-58)"
            ]
          },
          "metadata": {
            "tags": []
          },
          "execution_count": 19
        }
      ]
    },
    {
      "cell_type": "code",
      "metadata": {
        "id": "-jajtyduPPb3",
        "outputId": "2deaeaa0-8fb3-4a0f-b6bd-479b81806620",
        "colab": {
          "base_uri": "https://localhost:8080/"
        }
      },
      "source": [
        "dx_females=dx.loc[dx.RIAGENDRx==\"Female\",\"SMQ020x\"].replace({\"Yes\":1,\"No\":0})\r\n",
        "dx_males=dx.loc[dx.RIAGENDRx==\"Male\",\"SMQ020x\"].replace({\"Yes\":1,\"No\":0})\r\n",
        "dx_females\r\n",
        "dx_males"
      ],
      "execution_count": 24,
      "outputs": [
        {
          "output_type": "execute_result",
          "data": {
            "text/plain": [
              "0       1\n",
              "1       1\n",
              "2       1\n",
              "6       1\n",
              "8       0\n",
              "       ..\n",
              "5726    1\n",
              "5728    0\n",
              "5729    0\n",
              "5731    0\n",
              "5733    1\n",
              "Name: SMQ020x, Length: 2753, dtype: int64"
            ]
          },
          "metadata": {
            "tags": []
          },
          "execution_count": 24
        }
      ]
    },
    {
      "cell_type": "code",
      "metadata": {
        "id": "evelJ2RMQp5I",
        "outputId": "6b13c135-12c6-4a70-a6a4-89b29281d1ba",
        "colab": {
          "base_uri": "https://localhost:8080/"
        }
      },
      "source": [
        "sm.stats.ttest_ind(dx_females,dx_males) #prints test statistic, p-value, degree of freedom"
      ],
      "execution_count": 25,
      "outputs": [
        {
          "output_type": "execute_result",
          "data": {
            "text/plain": [
              "(-16.420585558984445, 3.0320887866906843e-59, 5723.0)"
            ]
          },
          "metadata": {
            "tags": []
          },
          "execution_count": 25
        }
      ]
    },
    {
      "cell_type": "code",
      "metadata": {
        "id": "fY2BhY7VFJlZ"
      },
      "source": [
        "dx_females = dx.loc[dx.RIAGENDRx == \"Female\", \"SMQ020x\"].replace({\"Yes\": 1, \"No\": 0})\n",
        "dx_females"
      ],
      "execution_count": null,
      "outputs": []
    },
    {
      "cell_type": "code",
      "metadata": {
        "id": "s9RknbfLFJlZ"
      },
      "source": [
        "dx_males = dx.loc[dx.RIAGENDRx == \"Male\", \"SMQ020x\"].replace({\"Yes\": 1, \"No\": 0})\n",
        "dx_males"
      ],
      "execution_count": null,
      "outputs": []
    },
    {
      "cell_type": "code",
      "metadata": {
        "id": "3vP8EyjGFJlZ"
      },
      "source": [
        "sm.stats.ttest_ind(dx_females, dx_males)"
      ],
      "execution_count": null,
      "outputs": []
    },
    {
      "cell_type": "markdown",
      "metadata": {
        "id": "4M3NcnuCFJla"
      },
      "source": [
        "### Hypothesis Tests Comparing Means\n",
        "\n",
        "Tests of means are similar in many ways to tests of proportions.  Just as with proportions, for comparing means there are one and two-sample tests, z-tests and t-tests, and one-sided and two-sided tests.  As with tests of proportions, one-sample tests of means are not very common, but we illustrate a one sample test in the cell below.  We compare systolic blood pressure to the fixed value 120 (which is the lower threshold for \"pre-hypertension\"), and find that the mean is significantly different from 120 (the point estimate of the mean is 126)."
      ]
    },
    {
      "cell_type": "code",
      "metadata": {
        "id": "vLWx7hzfRflo",
        "outputId": "66ac0ce5-860e-4474-f4b3-98a1b9fecfbd",
        "colab": {
          "base_uri": "https://localhost:8080/",
          "height": 402
        }
      },
      "source": [
        "dx=da[[\"BPXSY1\",\"RIDAGEYR\",\"RIAGENDRx\"]].dropna()\r\n",
        "dx\r\n",
        "dx=dx.loc[(dx.RIDAGEYR>=40)&(dx.RIDAGEYR<=50)&(dx.RIAGENDRx==\"Male\"), :]\r\n",
        "dx"
      ],
      "execution_count": 29,
      "outputs": [
        {
          "output_type": "execute_result",
          "data": {
            "text/html": [
              "<div>\n",
              "<style scoped>\n",
              "    .dataframe tbody tr th:only-of-type {\n",
              "        vertical-align: middle;\n",
              "    }\n",
              "\n",
              "    .dataframe tbody tr th {\n",
              "        vertical-align: top;\n",
              "    }\n",
              "\n",
              "    .dataframe thead th {\n",
              "        text-align: right;\n",
              "    }\n",
              "</style>\n",
              "<table border=\"1\" class=\"dataframe\">\n",
              "  <thead>\n",
              "    <tr style=\"text-align: right;\">\n",
              "      <th></th>\n",
              "      <th>BPXSY1</th>\n",
              "      <th>RIDAGEYR</th>\n",
              "      <th>RIAGENDRx</th>\n",
              "    </tr>\n",
              "  </thead>\n",
              "  <tbody>\n",
              "    <tr>\n",
              "      <th>10</th>\n",
              "      <td>144.0</td>\n",
              "      <td>46</td>\n",
              "      <td>Male</td>\n",
              "    </tr>\n",
              "    <tr>\n",
              "      <th>11</th>\n",
              "      <td>116.0</td>\n",
              "      <td>45</td>\n",
              "      <td>Male</td>\n",
              "    </tr>\n",
              "    <tr>\n",
              "      <th>20</th>\n",
              "      <td>110.0</td>\n",
              "      <td>49</td>\n",
              "      <td>Male</td>\n",
              "    </tr>\n",
              "    <tr>\n",
              "      <th>42</th>\n",
              "      <td>128.0</td>\n",
              "      <td>42</td>\n",
              "      <td>Male</td>\n",
              "    </tr>\n",
              "    <tr>\n",
              "      <th>51</th>\n",
              "      <td>118.0</td>\n",
              "      <td>50</td>\n",
              "      <td>Male</td>\n",
              "    </tr>\n",
              "    <tr>\n",
              "      <th>...</th>\n",
              "      <td>...</td>\n",
              "      <td>...</td>\n",
              "      <td>...</td>\n",
              "    </tr>\n",
              "    <tr>\n",
              "      <th>5680</th>\n",
              "      <td>134.0</td>\n",
              "      <td>50</td>\n",
              "      <td>Male</td>\n",
              "    </tr>\n",
              "    <tr>\n",
              "      <th>5690</th>\n",
              "      <td>138.0</td>\n",
              "      <td>48</td>\n",
              "      <td>Male</td>\n",
              "    </tr>\n",
              "    <tr>\n",
              "      <th>5693</th>\n",
              "      <td>96.0</td>\n",
              "      <td>41</td>\n",
              "      <td>Male</td>\n",
              "    </tr>\n",
              "    <tr>\n",
              "      <th>5713</th>\n",
              "      <td>116.0</td>\n",
              "      <td>43</td>\n",
              "      <td>Male</td>\n",
              "    </tr>\n",
              "    <tr>\n",
              "      <th>5718</th>\n",
              "      <td>128.0</td>\n",
              "      <td>45</td>\n",
              "      <td>Male</td>\n",
              "    </tr>\n",
              "  </tbody>\n",
              "</table>\n",
              "<p>421 rows × 3 columns</p>\n",
              "</div>"
            ],
            "text/plain": [
              "      BPXSY1  RIDAGEYR RIAGENDRx\n",
              "10     144.0        46      Male\n",
              "11     116.0        45      Male\n",
              "20     110.0        49      Male\n",
              "42     128.0        42      Male\n",
              "51     118.0        50      Male\n",
              "...      ...       ...       ...\n",
              "5680   134.0        50      Male\n",
              "5690   138.0        48      Male\n",
              "5693    96.0        41      Male\n",
              "5713   116.0        43      Male\n",
              "5718   128.0        45      Male\n",
              "\n",
              "[421 rows x 3 columns]"
            ]
          },
          "metadata": {
            "tags": []
          },
          "execution_count": 29
        }
      ]
    },
    {
      "cell_type": "code",
      "metadata": {
        "id": "K-1MNpc_Ss2J",
        "outputId": "2935a7fc-c0d4-4a66-f223-660372603b2a",
        "colab": {
          "base_uri": "https://localhost:8080/"
        }
      },
      "source": [
        "print(dx.BPXSY1.mean())"
      ],
      "execution_count": 30,
      "outputs": [
        {
          "output_type": "stream",
          "text": [
            "125.86698337292161\n"
          ],
          "name": "stdout"
        }
      ]
    },
    {
      "cell_type": "code",
      "metadata": {
        "id": "oxpyCgXCRgVR",
        "outputId": "b9e40400-87be-410c-9d4e-7d2948096e7d",
        "colab": {
          "base_uri": "https://localhost:8080/"
        }
      },
      "source": [
        "sm.stats.ztest(dx.BPXSY1, value=120)"
      ],
      "execution_count": 31,
      "outputs": [
        {
          "output_type": "execute_result",
          "data": {
            "text/plain": [
              "(7.469764137102597, 8.033869113167905e-14)"
            ]
          },
          "metadata": {
            "tags": []
          },
          "execution_count": 31
        }
      ]
    },
    {
      "cell_type": "code",
      "metadata": {
        "id": "Mhj2HHZDRgYM"
      },
      "source": [
        ""
      ],
      "execution_count": null,
      "outputs": []
    },
    {
      "cell_type": "code",
      "metadata": {
        "id": "gUtOBYAmFJla"
      },
      "source": [
        "dx = da[[\"BPXSY1\", \"RIDAGEYR\", \"RIAGENDRx\"]].dropna()\n",
        "dx"
      ],
      "execution_count": null,
      "outputs": []
    },
    {
      "cell_type": "code",
      "metadata": {
        "id": "ZLrxYnmkFJla"
      },
      "source": [
        "dx = dx.loc[(dx.RIDAGEYR >= 40) & (dx.RIDAGEYR <= 50) & (dx.RIAGENDRx == \"Male\"), :]\n",
        "dx"
      ],
      "execution_count": null,
      "outputs": []
    },
    {
      "cell_type": "code",
      "metadata": {
        "id": "k85IyaE5FJla"
      },
      "source": [
        "print(dx.BPXSY1.mean())"
      ],
      "execution_count": null,
      "outputs": []
    },
    {
      "cell_type": "code",
      "metadata": {
        "id": "LZuP87ixFJla"
      },
      "source": [
        "sm.stats.ztest(dx.BPXSY1, value=120)"
      ],
      "execution_count": null,
      "outputs": []
    },
    {
      "cell_type": "markdown",
      "metadata": {
        "id": "8YgvmZb-FJlb"
      },
      "source": [
        "In the cell below, we carry out a formal test of the null hypothesis that the mean blood pressure for women between the ages of 50 and 60 is equal to the mean blood pressure of men between the ages of 50 and 60.  The results indicate that while the mean systolic blood pressure for men is slightly greater than that for women (129 mm/Hg versus 128 mm/Hg), this difference is not statistically significant. \n",
        "\n",
        "There are a number of different variants on the two-sample t-test. Two often-encountered variants are the t-test carried out using the t-distribution, and the t-test carried out using the normal approximation to the reference distribution of the test statistic, often called a z-test.  Below we display results from both these testing approaches.  When the sample size is large, the difference between the t-test and z-test is very small.  "
      ]
    },
    {
      "cell_type": "code",
      "metadata": {
        "id": "dXuB-SrzVsCD",
        "outputId": "e8bfb62b-c9ad-4832-8adf-1a215e9df377",
        "colab": {
          "base_uri": "https://localhost:8080/",
          "height": 195
        }
      },
      "source": [
        "dx=da[[\"BPXSY1\",\"RIDAGEYR\",\"RIAGENDRx\"]].dropna()\r\n",
        "dx=dx.loc[(dx.RIDAGEYR>=50) & (dx.RIDAGEYR<=60),:]\r\n",
        "dx.head()"
      ],
      "execution_count": 32,
      "outputs": [
        {
          "output_type": "execute_result",
          "data": {
            "text/html": [
              "<div>\n",
              "<style scoped>\n",
              "    .dataframe tbody tr th:only-of-type {\n",
              "        vertical-align: middle;\n",
              "    }\n",
              "\n",
              "    .dataframe tbody tr th {\n",
              "        vertical-align: top;\n",
              "    }\n",
              "\n",
              "    .dataframe thead th {\n",
              "        text-align: right;\n",
              "    }\n",
              "</style>\n",
              "<table border=\"1\" class=\"dataframe\">\n",
              "  <thead>\n",
              "    <tr style=\"text-align: right;\">\n",
              "      <th></th>\n",
              "      <th>BPXSY1</th>\n",
              "      <th>RIDAGEYR</th>\n",
              "      <th>RIAGENDRx</th>\n",
              "    </tr>\n",
              "  </thead>\n",
              "  <tbody>\n",
              "    <tr>\n",
              "      <th>1</th>\n",
              "      <td>146.0</td>\n",
              "      <td>53</td>\n",
              "      <td>Male</td>\n",
              "    </tr>\n",
              "    <tr>\n",
              "      <th>3</th>\n",
              "      <td>132.0</td>\n",
              "      <td>56</td>\n",
              "      <td>Female</td>\n",
              "    </tr>\n",
              "    <tr>\n",
              "      <th>9</th>\n",
              "      <td>178.0</td>\n",
              "      <td>56</td>\n",
              "      <td>Male</td>\n",
              "    </tr>\n",
              "    <tr>\n",
              "      <th>15</th>\n",
              "      <td>134.0</td>\n",
              "      <td>57</td>\n",
              "      <td>Female</td>\n",
              "    </tr>\n",
              "    <tr>\n",
              "      <th>19</th>\n",
              "      <td>136.0</td>\n",
              "      <td>54</td>\n",
              "      <td>Female</td>\n",
              "    </tr>\n",
              "  </tbody>\n",
              "</table>\n",
              "</div>"
            ],
            "text/plain": [
              "    BPXSY1  RIDAGEYR RIAGENDRx\n",
              "1    146.0        53      Male\n",
              "3    132.0        56    Female\n",
              "9    178.0        56      Male\n",
              "15   134.0        57    Female\n",
              "19   136.0        54    Female"
            ]
          },
          "metadata": {
            "tags": []
          },
          "execution_count": 32
        }
      ]
    },
    {
      "cell_type": "code",
      "metadata": {
        "id": "mVSaIasYFJlb",
        "outputId": "9c56d0aa-40f5-41e9-f74c-019ee23584ed",
        "colab": {
          "base_uri": "https://localhost:8080/",
          "height": 195
        }
      },
      "source": [
        "dx = da[[\"BPXSY1\", \"RIDAGEYR\", \"RIAGENDRx\"]].dropna()\n",
        "dx = dx.loc[(dx.RIDAGEYR >= 50) & (dx.RIDAGEYR <= 60), :]\n",
        "dx.head()"
      ],
      "execution_count": 33,
      "outputs": [
        {
          "output_type": "execute_result",
          "data": {
            "text/html": [
              "<div>\n",
              "<style scoped>\n",
              "    .dataframe tbody tr th:only-of-type {\n",
              "        vertical-align: middle;\n",
              "    }\n",
              "\n",
              "    .dataframe tbody tr th {\n",
              "        vertical-align: top;\n",
              "    }\n",
              "\n",
              "    .dataframe thead th {\n",
              "        text-align: right;\n",
              "    }\n",
              "</style>\n",
              "<table border=\"1\" class=\"dataframe\">\n",
              "  <thead>\n",
              "    <tr style=\"text-align: right;\">\n",
              "      <th></th>\n",
              "      <th>BPXSY1</th>\n",
              "      <th>RIDAGEYR</th>\n",
              "      <th>RIAGENDRx</th>\n",
              "    </tr>\n",
              "  </thead>\n",
              "  <tbody>\n",
              "    <tr>\n",
              "      <th>1</th>\n",
              "      <td>146.0</td>\n",
              "      <td>53</td>\n",
              "      <td>Male</td>\n",
              "    </tr>\n",
              "    <tr>\n",
              "      <th>3</th>\n",
              "      <td>132.0</td>\n",
              "      <td>56</td>\n",
              "      <td>Female</td>\n",
              "    </tr>\n",
              "    <tr>\n",
              "      <th>9</th>\n",
              "      <td>178.0</td>\n",
              "      <td>56</td>\n",
              "      <td>Male</td>\n",
              "    </tr>\n",
              "    <tr>\n",
              "      <th>15</th>\n",
              "      <td>134.0</td>\n",
              "      <td>57</td>\n",
              "      <td>Female</td>\n",
              "    </tr>\n",
              "    <tr>\n",
              "      <th>19</th>\n",
              "      <td>136.0</td>\n",
              "      <td>54</td>\n",
              "      <td>Female</td>\n",
              "    </tr>\n",
              "  </tbody>\n",
              "</table>\n",
              "</div>"
            ],
            "text/plain": [
              "    BPXSY1  RIDAGEYR RIAGENDRx\n",
              "1    146.0        53      Male\n",
              "3    132.0        56    Female\n",
              "9    178.0        56      Male\n",
              "15   134.0        57    Female\n",
              "19   136.0        54    Female"
            ]
          },
          "metadata": {
            "tags": []
          },
          "execution_count": 33
        }
      ]
    },
    {
      "cell_type": "code",
      "metadata": {
        "id": "jDbNL8ROWFb2",
        "outputId": "6a29aeac-09c3-4b27-8b97-b0baa3ac0597",
        "colab": {
          "base_uri": "https://localhost:8080/"
        }
      },
      "source": [
        "bpx_female=dx.loc[(dx.RIAGENDRx==\"Female\",\"BPXSY1\")]\r\n",
        "bpx_male=dx.loc[(dx.RIAGENDRx==\"Male\",\"BPXSY1\")]\r\n",
        "print(bpx_female.mean(), bpx_male.mean()) #female mean, male mean"
      ],
      "execution_count": 35,
      "outputs": [
        {
          "output_type": "stream",
          "text": [
            "127.92561983471074 129.23829787234044\n"
          ],
          "name": "stdout"
        }
      ]
    },
    {
      "cell_type": "code",
      "metadata": {
        "id": "kGhykqQSWb3w",
        "outputId": "6bf30ce3-54c3-4263-f796-491a79137107",
        "colab": {
          "base_uri": "https://localhost:8080/"
        }
      },
      "source": [
        "print(sm.stats.ztest(bpx_female, bpx_male)) # test statistic, p-value"
      ],
      "execution_count": 37,
      "outputs": [
        {
          "output_type": "stream",
          "text": [
            "(-1.105435895556249, 0.2689707570859362)\n"
          ],
          "name": "stdout"
        }
      ]
    },
    {
      "cell_type": "code",
      "metadata": {
        "id": "1bhF0oQhWlJv",
        "outputId": "2a159a5a-ec97-42ec-9843-640f719eb10b",
        "colab": {
          "base_uri": "https://localhost:8080/"
        }
      },
      "source": [
        "print(sm.stats.ttest_ind(bpx_female, bpx_male)) # test statistic, p-value, degree of freedom"
      ],
      "execution_count": 38,
      "outputs": [
        {
          "output_type": "stream",
          "text": [
            "(-1.105435895556249, 0.26925004137768577, 952.0)\n"
          ],
          "name": "stdout"
        }
      ]
    },
    {
      "cell_type": "code",
      "metadata": {
        "id": "Po3IBIdMFJlb"
      },
      "source": [
        "bpx_female = dx.loc[dx.RIAGENDRx==\"Female\", \"BPXSY1\"]\n",
        "bpx_male = dx.loc[dx.RIAGENDRx==\"Male\", \"BPXSY1\"]\n",
        "print(bpx_female.mean(), bpx_male.mean())"
      ],
      "execution_count": null,
      "outputs": []
    },
    {
      "cell_type": "code",
      "metadata": {
        "id": "IKC4bYNRFJlb"
      },
      "source": [
        "print(sm.stats.ztest(bpx_female, bpx_male))"
      ],
      "execution_count": null,
      "outputs": []
    },
    {
      "cell_type": "code",
      "metadata": {
        "id": "msxRoeyBfwhZ"
      },
      "source": [
        ""
      ],
      "execution_count": null,
      "outputs": []
    },
    {
      "cell_type": "code",
      "metadata": {
        "id": "_m1lgaRIFJlb"
      },
      "source": [
        "print(sm.stats.ttest_ind(bpx_female, bpx_male))"
      ],
      "execution_count": null,
      "outputs": []
    },
    {
      "cell_type": "markdown",
      "metadata": {
        "id": "TfJW7SfhFJlc"
      },
      "source": [
        "Another important aspect of two-sample mean testing is \"heteroscedasticity\", meaning that the variances within the two groups being compared may be different. While the goal of the test is to compare the means, the variances play an important role in calibrating the statistics (deciding how big the mean difference needs to be to be declared statisitically significant). In the NHANES data, we see that there are moderate differences between the amount of variation in BMI for females and for males, looking within 10-year age bands. In every age band, females having greater variation than males. "
      ]
    },
    {
      "cell_type": "code",
      "metadata": {
        "id": "8HAj8WEBfmNw",
        "outputId": "a0a99963-784d-4659-a5d2-04f419727285",
        "colab": {
          "base_uri": "https://localhost:8080/"
        }
      },
      "source": [
        "dx=da[[\"BMXBMI\",\"RIDAGEYR\",\"RIAGENDRx\"]].dropna()\r\n",
        "da[\"agegrp\"]=pd.cut(da.RIDAGEYR,[18,30,40,50,60,70,80])\r\n",
        "da.groupby([\"agegrp\",\"RIAGENDRx\"])[\"BMXBMI\"].agg(np.std).unstack"
      ],
      "execution_count": 42,
      "outputs": [
        {
          "output_type": "execute_result",
          "data": {
            "text/plain": [
              "<bound method Series.unstack of agegrp    RIAGENDRx\n",
              "(18, 30]  Female       7.745893\n",
              "          Male         6.649440\n",
              "(30, 40]  Female       8.315608\n",
              "          Male         6.622412\n",
              "(40, 50]  Female       8.076195\n",
              "          Male         6.407076\n",
              "(50, 60]  Female       7.575848\n",
              "          Male         5.914373\n",
              "(60, 70]  Female       7.604514\n",
              "          Male         5.933307\n",
              "(70, 80]  Female       6.284968\n",
              "          Male         4.974855\n",
              "Name: BMXBMI, dtype: float64>"
            ]
          },
          "metadata": {
            "tags": []
          },
          "execution_count": 42
        }
      ]
    },
    {
      "cell_type": "markdown",
      "metadata": {
        "id": "t7CWRPzmgvFF"
      },
      "source": [
        "The Std between the sexes in each agegroup  is very different. This is proof that heteroscedacity deffinitely exists between these two groups"
      ]
    },
    {
      "cell_type": "code",
      "metadata": {
        "id": "1JQnbO_YFJlc"
      },
      "source": [
        "dx = da[[\"BMXBMI\", \"RIDAGEYR\", \"RIAGENDRx\"]].dropna()\n",
        "da[\"agegrp\"] = pd.cut(da.RIDAGEYR, [18, 30, 40, 50, 60, 70, 80])\n",
        "da.groupby([\"agegrp\", \"RIAGENDRx\"])[\"BMXBMI\"].agg(np.std).unstack()"
      ],
      "execution_count": null,
      "outputs": []
    },
    {
      "cell_type": "markdown",
      "metadata": {
        "id": "zfjoWKTCFJld"
      },
      "source": [
        "The standard error of the mean difference (e.g. mean female blood pressure minus mean mal blood pressure) can be estimated in at least two different ways. In the statsmodels library, these approaches are referred to as the \"pooled\" and the \"unequal\" approach to estimating the variance. If the variances are equal (i.e. there is no heteroscedasticity), then there should be little difference between the two approaches. Even in the presence of moderate heteroscedasticity, as we have here, we can see that the results for the two differences are quite similar. Below we have a loop that considers each 10-year age band and assesses the evidence for a difference in mean BMI for women and for men. The results printed in each row of output are the test-statistic and p-value. "
      ]
    },
    {
      "cell_type": "code",
      "metadata": {
        "id": "I5HFlRtsFJld"
      },
      "source": [
        "for k, v in da.groupby(\"agegrp\"):\n",
        "    bmi_female = v.loc[v.RIAGENDRx==\"Female\", \"BMXBMI\"].dropna()\n",
        "    bmi_female = sm.stats.DescrStatsW(bmi_female)\n",
        "    bmi_male = v.loc[v.RIAGENDRx==\"Male\", \"BMXBMI\"].dropna()\n",
        "    bmi_male = sm.stats.DescrStatsW(bmi_male)\n",
        "    print(k)\n",
        "    print(\"pooled: \", sm.stats.CompareMeans(bmi_female, bmi_male).ztest_ind(usevar='pooled'))\n",
        "    print(\"unequal: \", sm.stats.CompareMeans(bmi_female, bmi_male).ztest_ind(usevar='unequal'))\n",
        "    print()"
      ],
      "execution_count": null,
      "outputs": []
    }
  ]
}